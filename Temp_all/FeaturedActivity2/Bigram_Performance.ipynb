{
 "cells": [
  {
   "cell_type": "code",
   "execution_count": null,
   "metadata": {
    "collapsed": true
   },
   "outputs": [],
   "source": []
  },
  {
   "cell_type": "code",
   "execution_count": 35,
   "metadata": {
    "collapsed": true
   },
   "outputs": [],
   "source": [
    "time_taken=c(1.51,2.14,3.52,4.01,4.42)"
   ]
  },
  {
   "cell_type": "code",
   "execution_count": 36,
   "metadata": {
    "collapsed": true
   },
   "outputs": [],
   "source": [
    "number_of_files=c(4,8,12,16,20)"
   ]
  },
  {
   "cell_type": "code",
   "execution_count": 37,
   "metadata": {
    "collapsed": true
   },
   "outputs": [],
   "source": [
    "df_final=cbind(number_of_files,time_taken)"
   ]
  },
  {
   "cell_type": "code",
   "execution_count": 38,
   "metadata": {
    "collapsed": false
   },
   "outputs": [
    {
     "data": {
      "text/html": [
       "<table>\n",
       "<thead><tr><th scope=col>number_of_files</th><th scope=col>time_taken</th></tr></thead>\n",
       "<tbody>\n",
       "\t<tr><td> 4  </td><td>1.51</td></tr>\n",
       "\t<tr><td> 8  </td><td>2.14</td></tr>\n",
       "\t<tr><td>12  </td><td>3.52</td></tr>\n",
       "\t<tr><td>16  </td><td>4.01</td></tr>\n",
       "\t<tr><td>20  </td><td>4.42</td></tr>\n",
       "</tbody>\n",
       "</table>\n"
      ],
      "text/latex": [
       "\\begin{tabular}{ll}\n",
       " number\\_of\\_files & time\\_taken\\\\\n",
       "\\hline\n",
       "\t  4   & 1.51\\\\\n",
       "\t  8   & 2.14\\\\\n",
       "\t 12   & 3.52\\\\\n",
       "\t 16   & 4.01\\\\\n",
       "\t 20   & 4.42\\\\\n",
       "\\end{tabular}\n"
      ],
      "text/markdown": [
       "\n",
       "number_of_files | time_taken | \n",
       "|---|---|---|---|---|\n",
       "|  4   | 1.51 | \n",
       "|  8   | 2.14 | \n",
       "| 12   | 3.52 | \n",
       "| 16   | 4.01 | \n",
       "| 20   | 4.42 | \n",
       "\n",
       "\n"
      ],
      "text/plain": [
       "     number_of_files time_taken\n",
       "[1,]  4              1.51      \n",
       "[2,]  8              2.14      \n",
       "[3,] 12              3.52      \n",
       "[4,] 16              4.01      \n",
       "[5,] 20              4.42      "
      ]
     },
     "metadata": {},
     "output_type": "display_data"
    }
   ],
   "source": [
    "df_final"
   ]
  },
  {
   "cell_type": "code",
   "execution_count": null,
   "metadata": {
    "collapsed": false
   },
   "outputs": [],
   "source": [
    "plot(x=number_of_files,y=time_taken,xlab =\"Number of files\",ylab =\"Time taken\",type = \"o\",main = \"Bigram-Performance-with-Lemma\",col=\"blue\")\n",
    " "
   ]
  }
 ],
 "metadata": {
  "kernelspec": {
   "display_name": "R",
   "language": "R",
   "name": "ir"
  },
  "language_info": {
   "codemirror_mode": "r",
   "file_extension": ".r",
   "mimetype": "text/x-r-source",
   "name": "R",
   "pygments_lexer": "r",
   "version": "3.3.2"
  }
 },
 "nbformat": 4,
 "nbformat_minor": 2
}
